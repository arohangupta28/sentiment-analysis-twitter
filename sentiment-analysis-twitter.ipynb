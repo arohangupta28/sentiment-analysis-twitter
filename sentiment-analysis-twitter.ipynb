{
 "cells": [
  {
   "cell_type": "markdown",
   "id": "618ad22f",
   "metadata": {
    "papermill": {
     "duration": 0.00651,
     "end_time": "2024-08-22T01:43:07.903516",
     "exception": false,
     "start_time": "2024-08-22T01:43:07.897006",
     "status": "completed"
    },
    "tags": []
   },
   "source": [
    "## **Import Needed Libraries**"
   ]
  },
  {
   "cell_type": "code",
   "execution_count": 1,
   "id": "6e76bec8",
   "metadata": {
    "_cell_guid": "b1076dfc-b9ad-4769-8c92-a6c4dae69d19",
    "_uuid": "8f2839f25d086af736a60e9eeb907d3b93b6e0e5",
    "execution": {
     "iopub.execute_input": "2024-08-22T01:43:07.916872Z",
     "iopub.status.busy": "2024-08-22T01:43:07.916174Z",
     "iopub.status.idle": "2024-08-22T01:43:10.846217Z",
     "shell.execute_reply": "2024-08-22T01:43:10.844940Z"
    },
    "papermill": {
     "duration": 2.9391,
     "end_time": "2024-08-22T01:43:10.848545",
     "exception": false,
     "start_time": "2024-08-22T01:43:07.909445",
     "status": "completed"
    },
    "tags": []
   },
   "outputs": [
    {
     "name": "stdout",
     "output_type": "stream",
     "text": [
      "modul loaded\n"
     ]
    }
   ],
   "source": [
    "import pandas as pd\n",
    "import matplotlib.pyplot as plt\n",
    "import seaborn as sns\n",
    "import re\n",
    "import nltk\n",
    "from nltk.corpus import stopwords\n",
    "from nltk.stem import PorterStemmer\n",
    "from sklearn.feature_extraction.text import TfidfVectorizer\n",
    "from sklearn.model_selection import train_test_split\n",
    "from sklearn.ensemble import RandomForestClassifier\n",
    "from sklearn.tree import DecisionTreeClassifier\n",
    "from sklearn.naive_bayes import MultinomialNB\n",
    "from sklearn.metrics import confusion_matrix , classification_report ,accuracy_score,ConfusionMatrixDisplay\n",
    "print(\"modul loaded\")"
   ]
  },
  {
   "cell_type": "markdown",
   "id": "a5bc1aa0",
   "metadata": {
    "papermill": {
     "duration": 0.005986,
     "end_time": "2024-08-22T01:43:10.861079",
     "exception": false,
     "start_time": "2024-08-22T01:43:10.855093",
     "status": "completed"
    },
    "tags": []
   },
   "source": [
    "## **Read Data**"
   ]
  },
  {
   "cell_type": "code",
   "execution_count": 2,
   "id": "c5d06856",
   "metadata": {
    "execution": {
     "iopub.execute_input": "2024-08-22T01:43:10.874831Z",
     "iopub.status.busy": "2024-08-22T01:43:10.874395Z",
     "iopub.status.idle": "2024-08-22T01:43:11.192983Z",
     "shell.execute_reply": "2024-08-22T01:43:11.192076Z"
    },
    "papermill": {
     "duration": 0.328391,
     "end_time": "2024-08-22T01:43:11.195679",
     "exception": false,
     "start_time": "2024-08-22T01:43:10.867288",
     "status": "completed"
    },
    "tags": []
   },
   "outputs": [
    {
     "data": {
      "text/html": [
       "<div>\n",
       "<style scoped>\n",
       "    .dataframe tbody tr th:only-of-type {\n",
       "        vertical-align: middle;\n",
       "    }\n",
       "\n",
       "    .dataframe tbody tr th {\n",
       "        vertical-align: top;\n",
       "    }\n",
       "\n",
       "    .dataframe thead th {\n",
       "        text-align: right;\n",
       "    }\n",
       "</style>\n",
       "<table border=\"1\" class=\"dataframe\">\n",
       "  <thead>\n",
       "    <tr style=\"text-align: right;\">\n",
       "      <th></th>\n",
       "      <th>id</th>\n",
       "      <th>entity</th>\n",
       "      <th>target</th>\n",
       "      <th>Tweet content</th>\n",
       "    </tr>\n",
       "  </thead>\n",
       "  <tbody>\n",
       "    <tr>\n",
       "      <th>0</th>\n",
       "      <td>2401</td>\n",
       "      <td>Borderlands</td>\n",
       "      <td>Positive</td>\n",
       "      <td>im getting on borderlands and i will murder yo...</td>\n",
       "    </tr>\n",
       "    <tr>\n",
       "      <th>1</th>\n",
       "      <td>2401</td>\n",
       "      <td>Borderlands</td>\n",
       "      <td>Positive</td>\n",
       "      <td>I am coming to the borders and I will kill you...</td>\n",
       "    </tr>\n",
       "    <tr>\n",
       "      <th>2</th>\n",
       "      <td>2401</td>\n",
       "      <td>Borderlands</td>\n",
       "      <td>Positive</td>\n",
       "      <td>im getting on borderlands and i will kill you ...</td>\n",
       "    </tr>\n",
       "    <tr>\n",
       "      <th>3</th>\n",
       "      <td>2401</td>\n",
       "      <td>Borderlands</td>\n",
       "      <td>Positive</td>\n",
       "      <td>im coming on borderlands and i will murder you...</td>\n",
       "    </tr>\n",
       "    <tr>\n",
       "      <th>4</th>\n",
       "      <td>2401</td>\n",
       "      <td>Borderlands</td>\n",
       "      <td>Positive</td>\n",
       "      <td>im getting on borderlands 2 and i will murder ...</td>\n",
       "    </tr>\n",
       "    <tr>\n",
       "      <th>...</th>\n",
       "      <td>...</td>\n",
       "      <td>...</td>\n",
       "      <td>...</td>\n",
       "      <td>...</td>\n",
       "    </tr>\n",
       "    <tr>\n",
       "      <th>74677</th>\n",
       "      <td>9200</td>\n",
       "      <td>Nvidia</td>\n",
       "      <td>Positive</td>\n",
       "      <td>Just realized that the Windows partition of my...</td>\n",
       "    </tr>\n",
       "    <tr>\n",
       "      <th>74678</th>\n",
       "      <td>9200</td>\n",
       "      <td>Nvidia</td>\n",
       "      <td>Positive</td>\n",
       "      <td>Just realized that my Mac window partition is ...</td>\n",
       "    </tr>\n",
       "    <tr>\n",
       "      <th>74679</th>\n",
       "      <td>9200</td>\n",
       "      <td>Nvidia</td>\n",
       "      <td>Positive</td>\n",
       "      <td>Just realized the windows partition of my Mac ...</td>\n",
       "    </tr>\n",
       "    <tr>\n",
       "      <th>74680</th>\n",
       "      <td>9200</td>\n",
       "      <td>Nvidia</td>\n",
       "      <td>Positive</td>\n",
       "      <td>Just realized between the windows partition of...</td>\n",
       "    </tr>\n",
       "    <tr>\n",
       "      <th>74681</th>\n",
       "      <td>9200</td>\n",
       "      <td>Nvidia</td>\n",
       "      <td>Positive</td>\n",
       "      <td>Just like the windows partition of my Mac is l...</td>\n",
       "    </tr>\n",
       "  </tbody>\n",
       "</table>\n",
       "<p>74682 rows × 4 columns</p>\n",
       "</div>"
      ],
      "text/plain": [
       "         id       entity    target  \\\n",
       "0      2401  Borderlands  Positive   \n",
       "1      2401  Borderlands  Positive   \n",
       "2      2401  Borderlands  Positive   \n",
       "3      2401  Borderlands  Positive   \n",
       "4      2401  Borderlands  Positive   \n",
       "...     ...          ...       ...   \n",
       "74677  9200       Nvidia  Positive   \n",
       "74678  9200       Nvidia  Positive   \n",
       "74679  9200       Nvidia  Positive   \n",
       "74680  9200       Nvidia  Positive   \n",
       "74681  9200       Nvidia  Positive   \n",
       "\n",
       "                                           Tweet content  \n",
       "0      im getting on borderlands and i will murder yo...  \n",
       "1      I am coming to the borders and I will kill you...  \n",
       "2      im getting on borderlands and i will kill you ...  \n",
       "3      im coming on borderlands and i will murder you...  \n",
       "4      im getting on borderlands 2 and i will murder ...  \n",
       "...                                                  ...  \n",
       "74677  Just realized that the Windows partition of my...  \n",
       "74678  Just realized that my Mac window partition is ...  \n",
       "74679  Just realized the windows partition of my Mac ...  \n",
       "74680  Just realized between the windows partition of...  \n",
       "74681  Just like the windows partition of my Mac is l...  \n",
       "\n",
       "[74682 rows x 4 columns]"
      ]
     },
     "execution_count": 2,
     "metadata": {},
     "output_type": "execute_result"
    }
   ],
   "source": [
    "name_column=['id','entity','target','Tweet content']\n",
    "df=pd.read_csv('/kaggle/input/twitter-entity-sentiment-analysis/twitter_training.csv',names=name_column)\n",
    "df"
   ]
  },
  {
   "cell_type": "code",
   "execution_count": 3,
   "id": "918326f1",
   "metadata": {
    "execution": {
     "iopub.execute_input": "2024-08-22T01:43:11.210572Z",
     "iopub.status.busy": "2024-08-22T01:43:11.209791Z",
     "iopub.status.idle": "2024-08-22T01:43:11.251534Z",
     "shell.execute_reply": "2024-08-22T01:43:11.250457Z"
    },
    "papermill": {
     "duration": 0.05107,
     "end_time": "2024-08-22T01:43:11.253470",
     "exception": false,
     "start_time": "2024-08-22T01:43:11.202400",
     "status": "completed"
    },
    "tags": []
   },
   "outputs": [
    {
     "name": "stdout",
     "output_type": "stream",
     "text": [
      "<class 'pandas.core.frame.DataFrame'>\n",
      "RangeIndex: 74682 entries, 0 to 74681\n",
      "Data columns (total 4 columns):\n",
      " #   Column         Non-Null Count  Dtype \n",
      "---  ------         --------------  ----- \n",
      " 0   id             74682 non-null  int64 \n",
      " 1   entity         74682 non-null  object\n",
      " 2   target         74682 non-null  object\n",
      " 3   Tweet content  73996 non-null  object\n",
      "dtypes: int64(1), object(3)\n",
      "memory usage: 2.3+ MB\n"
     ]
    }
   ],
   "source": [
    "df.info()"
   ]
  },
  {
   "cell_type": "markdown",
   "id": "cd1ac42f",
   "metadata": {
    "papermill": {
     "duration": 0.005837,
     "end_time": "2024-08-22T01:43:11.265519",
     "exception": false,
     "start_time": "2024-08-22T01:43:11.259682",
     "status": "completed"
    },
    "tags": []
   },
   "source": [
    "## **Explore & cleaning**"
   ]
  },
  {
   "cell_type": "code",
   "execution_count": 4,
   "id": "e46c04fd",
   "metadata": {
    "execution": {
     "iopub.execute_input": "2024-08-22T01:43:11.278732Z",
     "iopub.status.busy": "2024-08-22T01:43:11.278415Z",
     "iopub.status.idle": "2024-08-22T01:43:11.291315Z",
     "shell.execute_reply": "2024-08-22T01:43:11.290467Z"
    },
    "papermill": {
     "duration": 0.021746,
     "end_time": "2024-08-22T01:43:11.293271",
     "exception": false,
     "start_time": "2024-08-22T01:43:11.271525",
     "status": "completed"
    },
    "tags": []
   },
   "outputs": [
    {
     "data": {
      "text/html": [
       "<div>\n",
       "<style scoped>\n",
       "    .dataframe tbody tr th:only-of-type {\n",
       "        vertical-align: middle;\n",
       "    }\n",
       "\n",
       "    .dataframe tbody tr th {\n",
       "        vertical-align: top;\n",
       "    }\n",
       "\n",
       "    .dataframe thead th {\n",
       "        text-align: right;\n",
       "    }\n",
       "</style>\n",
       "<table border=\"1\" class=\"dataframe\">\n",
       "  <thead>\n",
       "    <tr style=\"text-align: right;\">\n",
       "      <th></th>\n",
       "      <th>target</th>\n",
       "      <th>Tweet content</th>\n",
       "    </tr>\n",
       "  </thead>\n",
       "  <tbody>\n",
       "    <tr>\n",
       "      <th>0</th>\n",
       "      <td>Positive</td>\n",
       "      <td>im getting on borderlands and i will murder yo...</td>\n",
       "    </tr>\n",
       "    <tr>\n",
       "      <th>1</th>\n",
       "      <td>Positive</td>\n",
       "      <td>I am coming to the borders and I will kill you...</td>\n",
       "    </tr>\n",
       "    <tr>\n",
       "      <th>2</th>\n",
       "      <td>Positive</td>\n",
       "      <td>im getting on borderlands and i will kill you ...</td>\n",
       "    </tr>\n",
       "    <tr>\n",
       "      <th>3</th>\n",
       "      <td>Positive</td>\n",
       "      <td>im coming on borderlands and i will murder you...</td>\n",
       "    </tr>\n",
       "    <tr>\n",
       "      <th>4</th>\n",
       "      <td>Positive</td>\n",
       "      <td>im getting on borderlands 2 and i will murder ...</td>\n",
       "    </tr>\n",
       "    <tr>\n",
       "      <th>...</th>\n",
       "      <td>...</td>\n",
       "      <td>...</td>\n",
       "    </tr>\n",
       "    <tr>\n",
       "      <th>74677</th>\n",
       "      <td>Positive</td>\n",
       "      <td>Just realized that the Windows partition of my...</td>\n",
       "    </tr>\n",
       "    <tr>\n",
       "      <th>74678</th>\n",
       "      <td>Positive</td>\n",
       "      <td>Just realized that my Mac window partition is ...</td>\n",
       "    </tr>\n",
       "    <tr>\n",
       "      <th>74679</th>\n",
       "      <td>Positive</td>\n",
       "      <td>Just realized the windows partition of my Mac ...</td>\n",
       "    </tr>\n",
       "    <tr>\n",
       "      <th>74680</th>\n",
       "      <td>Positive</td>\n",
       "      <td>Just realized between the windows partition of...</td>\n",
       "    </tr>\n",
       "    <tr>\n",
       "      <th>74681</th>\n",
       "      <td>Positive</td>\n",
       "      <td>Just like the windows partition of my Mac is l...</td>\n",
       "    </tr>\n",
       "  </tbody>\n",
       "</table>\n",
       "<p>74682 rows × 2 columns</p>\n",
       "</div>"
      ],
      "text/plain": [
       "         target                                      Tweet content\n",
       "0      Positive  im getting on borderlands and i will murder yo...\n",
       "1      Positive  I am coming to the borders and I will kill you...\n",
       "2      Positive  im getting on borderlands and i will kill you ...\n",
       "3      Positive  im coming on borderlands and i will murder you...\n",
       "4      Positive  im getting on borderlands 2 and i will murder ...\n",
       "...         ...                                                ...\n",
       "74677  Positive  Just realized that the Windows partition of my...\n",
       "74678  Positive  Just realized that my Mac window partition is ...\n",
       "74679  Positive  Just realized the windows partition of my Mac ...\n",
       "74680  Positive  Just realized between the windows partition of...\n",
       "74681  Positive  Just like the windows partition of my Mac is l...\n",
       "\n",
       "[74682 rows x 2 columns]"
      ]
     },
     "execution_count": 4,
     "metadata": {},
     "output_type": "execute_result"
    }
   ],
   "source": [
    "df=df.drop(columns=['id','entity'],axis=1)\n",
    "df"
   ]
  },
  {
   "cell_type": "code",
   "execution_count": 5,
   "id": "55ceecfc",
   "metadata": {
    "execution": {
     "iopub.execute_input": "2024-08-22T01:43:11.308186Z",
     "iopub.status.busy": "2024-08-22T01:43:11.307782Z",
     "iopub.status.idle": "2024-08-22T01:43:11.329054Z",
     "shell.execute_reply": "2024-08-22T01:43:11.328178Z"
    },
    "papermill": {
     "duration": 0.030929,
     "end_time": "2024-08-22T01:43:11.330943",
     "exception": false,
     "start_time": "2024-08-22T01:43:11.300014",
     "status": "completed"
    },
    "tags": []
   },
   "outputs": [
    {
     "data": {
      "text/plain": [
       "target             0\n",
       "Tweet content    686\n",
       "dtype: int64"
      ]
     },
     "execution_count": 5,
     "metadata": {},
     "output_type": "execute_result"
    }
   ],
   "source": [
    "df.isna().sum()"
   ]
  },
  {
   "cell_type": "code",
   "execution_count": 6,
   "id": "803e215e",
   "metadata": {
    "execution": {
     "iopub.execute_input": "2024-08-22T01:43:11.344857Z",
     "iopub.status.busy": "2024-08-22T01:43:11.344588Z",
     "iopub.status.idle": "2024-08-22T01:43:11.367723Z",
     "shell.execute_reply": "2024-08-22T01:43:11.367062Z"
    },
    "papermill": {
     "duration": 0.032115,
     "end_time": "2024-08-22T01:43:11.369504",
     "exception": false,
     "start_time": "2024-08-22T01:43:11.337389",
     "status": "completed"
    },
    "tags": []
   },
   "outputs": [],
   "source": [
    "df.dropna(inplace=True)"
   ]
  },
  {
   "cell_type": "code",
   "execution_count": 7,
   "id": "fae5e063",
   "metadata": {
    "execution": {
     "iopub.execute_input": "2024-08-22T01:43:11.383578Z",
     "iopub.status.busy": "2024-08-22T01:43:11.383314Z",
     "iopub.status.idle": "2024-08-22T01:43:11.398663Z",
     "shell.execute_reply": "2024-08-22T01:43:11.397832Z"
    },
    "papermill": {
     "duration": 0.024877,
     "end_time": "2024-08-22T01:43:11.400844",
     "exception": false,
     "start_time": "2024-08-22T01:43:11.375967",
     "status": "completed"
    },
    "tags": []
   },
   "outputs": [
    {
     "data": {
      "text/plain": [
       "target\n",
       "Negative      22358\n",
       "Positive      20655\n",
       "Neutral       18108\n",
       "Irrelevant    12875\n",
       "Name: count, dtype: int64"
      ]
     },
     "execution_count": 7,
     "metadata": {},
     "output_type": "execute_result"
    }
   ],
   "source": [
    "count=df['target'].value_counts()\n",
    "count"
   ]
  },
  {
   "cell_type": "code",
   "execution_count": 8,
   "id": "63e64324",
   "metadata": {
    "execution": {
     "iopub.execute_input": "2024-08-22T01:43:11.415475Z",
     "iopub.status.busy": "2024-08-22T01:43:11.415212Z",
     "iopub.status.idle": "2024-08-22T01:43:11.697053Z",
     "shell.execute_reply": "2024-08-22T01:43:11.696191Z"
    },
    "papermill": {
     "duration": 0.291353,
     "end_time": "2024-08-22T01:43:11.699156",
     "exception": false,
     "start_time": "2024-08-22T01:43:11.407803",
     "status": "completed"
    },
    "tags": []
   },
   "outputs": [
    {
     "data": {
      "image/png": "[encoded data removed]",
      "text/plain": [
       "<Figure size 1200x800 with 1 Axes>"
      ]
     },
     "metadata": {},
     "output_type": "display_data"
    }
   ],
   "source": [
    "plt.figure(figsize=(12,8))\n",
    "sns.barplot(x=count.index,y=count.values,palette='viridis')\n",
    "plt.title('target_counts')\n",
    "plt.xlabel('target')\n",
    "plt.ylabel('count')\n",
    "plt.show()"
   ]
  },
  {
   "cell_type": "markdown",
   "id": "a68d1687",
   "metadata": {
    "papermill": {
     "duration": 0.006738,
     "end_time": "2024-08-22T01:43:11.713086",
     "exception": false,
     "start_time": "2024-08-22T01:43:11.706348",
     "status": "completed"
    },
    "tags": []
   },
   "source": [
    "## **preprocessing**"
   ]
  },
  {
   "cell_type": "code",
   "execution_count": 9,
   "id": "c0933342",
   "metadata": {
    "execution": {
     "iopub.execute_input": "2024-08-22T01:43:11.727992Z",
     "iopub.status.busy": "2024-08-22T01:43:11.727660Z",
     "iopub.status.idle": "2024-08-22T01:43:11.738088Z",
     "shell.execute_reply": "2024-08-22T01:43:11.737184Z"
    },
    "papermill": {
     "duration": 0.02009,
     "end_time": "2024-08-22T01:43:11.740036",
     "exception": false,
     "start_time": "2024-08-22T01:43:11.719946",
     "status": "completed"
    },
    "tags": []
   },
   "outputs": [],
   "source": [
    "ps=PorterStemmer()\n",
    "stops=set(stopwords.words('english'))\n",
    "def preprocessing_text(text):\n",
    "    text = re.sub(r'[^a-zA-Z\\s]', '',text)\n",
    "    text=text.lower()\n",
    "    token=text.split()\n",
    "    token=[ps.stem(word) for word in token if word not in stops]\n",
    "    return ' '.join(token)"
   ]
  },
  {
   "cell_type": "code",
   "execution_count": 10,
   "id": "b482f9b9",
   "metadata": {
    "execution": {
     "iopub.execute_input": "2024-08-22T01:43:11.755107Z",
     "iopub.status.busy": "2024-08-22T01:43:11.754789Z",
     "iopub.status.idle": "2024-08-22T01:43:38.352285Z",
     "shell.execute_reply": "2024-08-22T01:43:38.351315Z"
    },
    "papermill": {
     "duration": 26.607351,
     "end_time": "2024-08-22T01:43:38.354273",
     "exception": false,
     "start_time": "2024-08-22T01:43:11.746922",
     "status": "completed"
    },
    "tags": []
   },
   "outputs": [
    {
     "data": {
      "text/plain": [
       "0                                 im get borderland murder\n",
       "1                                         come border kill\n",
       "2                                   im get borderland kill\n",
       "3                                im come borderland murder\n",
       "4                                 im get borderland murder\n",
       "                               ...                        \n",
       "74677    realiz window partit mac like year behind nvid...\n",
       "74678    realiz mac window partit year behind nvidia dr...\n",
       "74679    realiz window partit mac year behind nvidia dr...\n",
       "74680    realiz window partit mac like year behind nvid...\n",
       "74681    like window partit mac like year behind driver...\n",
       "Name: Tweet content, Length: 73996, dtype: object"
      ]
     },
     "execution_count": 10,
     "metadata": {},
     "output_type": "execute_result"
    }
   ],
   "source": [
    "df['Tweet content']=df['Tweet content'].apply(preprocessing_text)\n",
    "df['Tweet content']"
   ]
  },
  {
   "cell_type": "markdown",
   "id": "0538a9a0",
   "metadata": {
    "papermill": {
     "duration": 0.007032,
     "end_time": "2024-08-22T01:43:38.368993",
     "exception": false,
     "start_time": "2024-08-22T01:43:38.361961",
     "status": "completed"
    },
    "tags": []
   },
   "source": [
    "## feature Extraction"
   ]
  },
  {
   "cell_type": "code",
   "execution_count": 11,
   "id": "db9559d2",
   "metadata": {
    "execution": {
     "iopub.execute_input": "2024-08-22T01:43:38.384318Z",
     "iopub.status.busy": "2024-08-22T01:43:38.383970Z",
     "iopub.status.idle": "2024-08-22T01:43:39.564224Z",
     "shell.execute_reply": "2024-08-22T01:43:39.563421Z"
    },
    "papermill": {
     "duration": 1.190438,
     "end_time": "2024-08-22T01:43:39.566427",
     "exception": false,
     "start_time": "2024-08-22T01:43:38.375989",
     "status": "completed"
    },
    "tags": []
   },
   "outputs": [],
   "source": [
    "tf=TfidfVectorizer(max_features=5000)\n",
    "x=tf.fit_transform(df['Tweet content'])\n",
    "y=df['target']"
   ]
  },
  {
   "cell_type": "code",
   "execution_count": 12,
   "id": "40926159",
   "metadata": {
    "execution": {
     "iopub.execute_input": "2024-08-22T01:43:39.582789Z",
     "iopub.status.busy": "2024-08-22T01:43:39.582469Z",
     "iopub.status.idle": "2024-08-22T01:43:39.588110Z",
     "shell.execute_reply": "2024-08-22T01:43:39.587244Z"
    },
    "papermill": {
     "duration": 0.016043,
     "end_time": "2024-08-22T01:43:39.589952",
     "exception": false,
     "start_time": "2024-08-22T01:43:39.573909",
     "status": "completed"
    },
    "tags": []
   },
   "outputs": [
    {
     "data": {
      "text/plain": [
       "(73996, 5000)"
      ]
     },
     "execution_count": 12,
     "metadata": {},
     "output_type": "execute_result"
    }
   ],
   "source": [
    "x.shape"
   ]
  },
  {
   "cell_type": "code",
   "execution_count": 13,
   "id": "08c05893",
   "metadata": {
    "execution": {
     "iopub.execute_input": "2024-08-22T01:43:39.605474Z",
     "iopub.status.busy": "2024-08-22T01:43:39.605185Z",
     "iopub.status.idle": "2024-08-22T01:43:39.610536Z",
     "shell.execute_reply": "2024-08-22T01:43:39.609746Z"
    },
    "papermill": {
     "duration": 0.015259,
     "end_time": "2024-08-22T01:43:39.612395",
     "exception": false,
     "start_time": "2024-08-22T01:43:39.597136",
     "status": "completed"
    },
    "tags": []
   },
   "outputs": [
    {
     "data": {
      "text/plain": [
       "(73996,)"
      ]
     },
     "execution_count": 13,
     "metadata": {},
     "output_type": "execute_result"
    }
   ],
   "source": [
    "y.shape"
   ]
  },
  {
   "cell_type": "markdown",
   "id": "1712e61e",
   "metadata": {
    "papermill": {
     "duration": 0.006923,
     "end_time": "2024-08-22T01:43:39.626638",
     "exception": false,
     "start_time": "2024-08-22T01:43:39.619715",
     "status": "completed"
    },
    "tags": []
   },
   "source": [
    "## **split data**"
   ]
  },
  {
   "cell_type": "code",
   "execution_count": 14,
   "id": "1f7f4696",
   "metadata": {
    "execution": {
     "iopub.execute_input": "2024-08-22T01:43:39.642549Z",
     "iopub.status.busy": "2024-08-22T01:43:39.642279Z",
     "iopub.status.idle": "2024-08-22T01:43:39.658175Z",
     "shell.execute_reply": "2024-08-22T01:43:39.657458Z"
    },
    "papermill": {
     "duration": 0.026058,
     "end_time": "2024-08-22T01:43:39.660201",
     "exception": false,
     "start_time": "2024-08-22T01:43:39.634143",
     "status": "completed"
    },
    "tags": []
   },
   "outputs": [],
   "source": [
    "X_train,X_test,y_train,y_test=train_test_split(x,y,test_size=0.2,shuffle=True,random_state=42)"
   ]
  },
  {
   "cell_type": "markdown",
   "id": "190b1cb1",
   "metadata": {
    "papermill": {
     "duration": 0.007229,
     "end_time": "2024-08-22T01:43:39.674686",
     "exception": false,
     "start_time": "2024-08-22T01:43:39.667457",
     "status": "completed"
    },
    "tags": []
   },
   "source": [
    "## **Build models**"
   ]
  },
  {
   "cell_type": "code",
   "execution_count": 15,
   "id": "d2151dfa",
   "metadata": {
    "execution": {
     "iopub.execute_input": "2024-08-22T01:43:39.690391Z",
     "iopub.status.busy": "2024-08-22T01:43:39.690132Z",
     "iopub.status.idle": "2024-08-22T01:46:07.891503Z",
     "shell.execute_reply": "2024-08-22T01:46:07.890580Z"
    },
    "papermill": {
     "duration": 148.2116,
     "end_time": "2024-08-22T01:46:07.893676",
     "exception": false,
     "start_time": "2024-08-22T01:43:39.682076",
     "status": "completed"
    },
    "tags": []
   },
   "outputs": [
    {
     "name": "stdout",
     "output_type": "stream",
     "text": [
      "\n",
      "--- Naive Bayes ---\n",
      "\n",
      "Accuracy: 0.6327027027027027\n",
      "\n",
      "Classification Report:\n",
      "               precision    recall  f1-score   support\n",
      "\n",
      "  Irrelevant       0.74      0.34      0.47      2696\n",
      "    Negative       0.61      0.81      0.70      4380\n",
      "     Neutral       0.67      0.51      0.58      3605\n",
      "    Positive       0.61      0.74      0.67      4119\n",
      "\n",
      "    accuracy                           0.63     14800\n",
      "   macro avg       0.66      0.60      0.60     14800\n",
      "weighted avg       0.65      0.63      0.62     14800\n",
      "\n",
      "\n",
      "Confusion Matrix:\n",
      " [[ 919  729  301  747]\n",
      " [  78 3536  305  461]\n",
      " [ 145  836 1846  778]\n",
      " [  98  650  308 3063]]\n",
      "\n",
      "--- Decision tree ---\n",
      "\n",
      "Accuracy: 0.7756756756756756\n",
      "\n",
      "Classification Report:\n",
      "               precision    recall  f1-score   support\n",
      "\n",
      "  Irrelevant       0.78      0.68      0.73      2696\n",
      "    Negative       0.82      0.81      0.82      4380\n",
      "     Neutral       0.71      0.79      0.74      3605\n",
      "    Positive       0.80      0.79      0.79      4119\n",
      "\n",
      "    accuracy                           0.78     14800\n",
      "   macro avg       0.77      0.77      0.77     14800\n",
      "weighted avg       0.78      0.78      0.78     14800\n",
      "\n",
      "\n",
      "Confusion Matrix:\n",
      " [[1843  228  339  286]\n",
      " [ 186 3547  416  231]\n",
      " [ 168  287 2838  312]\n",
      " [ 181  262  424 3252]]\n",
      "\n",
      "--- Random Forest ---\n",
      "\n",
      "Accuracy: 0.8812837837837838\n",
      "\n",
      "Classification Report:\n",
      "               precision    recall  f1-score   support\n",
      "\n",
      "  Irrelevant       0.95      0.79      0.86      2696\n",
      "    Negative       0.90      0.91      0.91      4380\n",
      "     Neutral       0.83      0.89      0.86      3605\n",
      "    Positive       0.88      0.90      0.89      4119\n",
      "\n",
      "    accuracy                           0.88     14800\n",
      "   macro avg       0.89      0.87      0.88     14800\n",
      "weighted avg       0.88      0.88      0.88     14800\n",
      "\n",
      "\n",
      "Confusion Matrix:\n",
      " [[2129  161  207  199]\n",
      " [  39 3991  211  139]\n",
      " [  39  159 3221  186]\n",
      " [  42  121  254 3702]]\n"
     ]
    },
    {
     "data": {
      "image/png": "[encoded data removed]",
      "text/plain": [
       "<Figure size 640x480 with 2 Axes>"
      ]
     },
     "metadata": {},
     "output_type": "display_data"
    },
    {
     "data": {
      "image/png": "[encoded data removed]",
      "text/plain": [
       "<Figure size 640x480 with 2 Axes>"
      ]
     },
     "metadata": {},
     "output_type": "display_data"
    },
    {
     "data": {
      "image/png": "[encoded data removed]",
      "text/plain": [
       "<Figure size 640x480 with 2 Axes>"
      ]
     },
     "metadata": {},
     "output_type": "display_data"
    }
   ],
   "source": [
    "models = {\n",
    "    'Naive Bayes': MultinomialNB(),\n",
    "    'Decision tree': DecisionTreeClassifier(),\n",
    "    'Random Forest': RandomForestClassifier(),\n",
    "    \n",
    "}\n",
    "for name, model in models.items():\n",
    "    model.fit(X_train, y_train)\n",
    "    y_pred = model.predict(X_test)\n",
    "    print(f\"\\n--- {name} ---\\n\")\n",
    "    print(\"Accuracy:\", accuracy_score(y_test, y_pred))\n",
    "    print(\"\\nClassification Report:\\n\", classification_report(y_test, y_pred))\n",
    "    print(\"\\nConfusion Matrix:\\n\", confusion_matrix(y_test, y_pred))\n",
    "    ConfusionMatrixDisplay.from_predictions(y_test, y_pred)"
   ]
  }
 ],
 "metadata": {
  "kaggle": {
   "accelerator": "nvidiaTeslaT4",
   "dataSources": [
    {
     "datasetId": 1520310,
     "sourceId": 2510329,
     "sourceType": "datasetVersion"
    }
   ],
   "dockerImageVersionId": 30762,
   "isGpuEnabled": true,
   "isInternetEnabled": true,
   "language": "python",
   "sourceType": "notebook"
  },
  "kernelspec": {
   "display_name": "Python 3",
   "language": "python",
   "name": "python3"
  },
  "language_info": {
   "codemirror_mode": {
    "name": "ipython",
    "version": 3
   },
   "file_extension": ".py",
   "mimetype": "text/x-python",
   "name": "python",
   "nbconvert_exporter": "python",
   "pygments_lexer": "ipython3",
   "version": "3.10.14"
  },
  "papermill": {
   "default_parameters": {},
   "duration": 183.197682,
   "end_time": "2024-08-22T01:46:08.422608",
   "environment_variables": {},
   "exception": null,
   "input_path": "__notebook__.ipynb",
   "output_path": "__notebook__.ipynb",
   "parameters": {},
   "start_time": "2024-08-22T01:43:05.224926",
   "version": "2.6.0"
  }
 },
 "nbformat": 4,
 "nbformat_minor": 5
}
